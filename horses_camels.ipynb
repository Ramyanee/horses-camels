{
  "nbformat": 4,
  "nbformat_minor": 0,
  "metadata": {
    "colab": {
      "name": "horses-camels.ipynb",
      "provenance": [],
      "authorship_tag": "ABX9TyO8O9T2/xTGY3o8AtXmxQiZ",
      "include_colab_link": true
    },
    "kernelspec": {
      "name": "python3",
      "display_name": "Python 3"
    },
    "language_info": {
      "name": "python"
    },
    "accelerator": "GPU"
  },
  "cells": [
    {
      "cell_type": "markdown",
      "metadata": {
        "id": "view-in-github",
        "colab_type": "text"
      },
      "source": [
        "<a href=\"https://colab.research.google.com/github/Ramyanee/horses-camels/blob/main/horses_camels.ipynb\" target=\"_parent\"><img src=\"https://colab.research.google.com/assets/colab-badge.svg\" alt=\"Open In Colab\"/></a>"
      ]
    },
    {
      "cell_type": "code",
      "metadata": {
        "id": "kIJrgrv6cucd"
      },
      "source": [
        "import tensorflow as tf\n",
        "import numpy as np\n",
        "import pandas as pd\n",
        "from tensorflow.keras.preprocessing.image import ImageDataGenerator"
      ],
      "execution_count": 1,
      "outputs": []
    },
    {
      "cell_type": "code",
      "metadata": {
        "colab": {
          "base_uri": "https://localhost:8080/"
        },
        "id": "FyfVx6cbexM5",
        "outputId": "3b938f4e-22ad-4bd6-ddf7-7219d446adcb"
      },
      "source": [
        "from google.colab import drive\n",
        "drive.mount('/content/gdrive')"
      ],
      "execution_count": 2,
      "outputs": [
        {
          "output_type": "stream",
          "text": [
            "Mounted at /content/gdrive\n"
          ],
          "name": "stdout"
        }
      ]
    },
    {
      "cell_type": "code",
      "metadata": {
        "colab": {
          "base_uri": "https://localhost:8080/"
        },
        "id": "hA_hBZt1i6jU",
        "outputId": "54a13678-e4e8-4848-bf8f-c6acb465e63e"
      },
      "source": [
        "!ls gdrive/MyDrive"
      ],
      "execution_count": 3,
      "outputs": [
        {
          "output_type": "stream",
          "text": [
            "'0. Applied Gate Notes'  'Getting started.pdf'\t ramyanee_resume.pdf\n",
            "'Colab Notebooks'\t  horse-or-human.zip\t resume_ramyanee.pdf\n",
            " course2\t\t  horses-camels\n"
          ],
          "name": "stdout"
        }
      ]
    },
    {
      "cell_type": "code",
      "metadata": {
        "colab": {
          "base_uri": "https://localhost:8080/"
        },
        "id": "5TJ9udNfi8gg",
        "outputId": "d01cd249-8ceb-46f7-d6a1-7c6328eae56a"
      },
      "source": [
        "!unzip gdrive/MyDrive/horses-camels/horses-camels.zip -d horses-camels"
      ],
      "execution_count": 11,
      "outputs": [
        {
          "output_type": "stream",
          "text": [
            "Archive:  gdrive/MyDrive/horses-camels/horses-camels.zip\n",
            "  inflating: horses-camels/test/camel/180.png  \n",
            "  inflating: horses-camels/test/camel/181.png  \n",
            "  inflating: horses-camels/test/camel/182.png  \n",
            "  inflating: horses-camels/test/camel/183.png  \n",
            "  inflating: horses-camels/test/camel/184.png  \n",
            "  inflating: horses-camels/test/camel/185.png  \n",
            "  inflating: horses-camels/test/camel/186.png  \n",
            "  inflating: horses-camels/test/camel/187.png  \n",
            "  inflating: horses-camels/test/camel/188.png  \n",
            "  inflating: horses-camels/test/camel/189.png  \n",
            "  inflating: horses-camels/test/camel/190.png  \n",
            "  inflating: horses-camels/test/camel/191.png  \n",
            "  inflating: horses-camels/test/camel/192.png  \n",
            "  inflating: horses-camels/test/camel/193.png  \n",
            "  inflating: horses-camels/test/camel/194.png  \n",
            "  inflating: horses-camels/test/camel/195.png  \n",
            "  inflating: horses-camels/test/camel/196.png  \n",
            "  inflating: horses-camels/test/camel/197.png  \n",
            "  inflating: horses-camels/test/camel/198.png  \n",
            "  inflating: horses-camels/test/camel/199.png  \n",
            "  inflating: horses-camels/test/horse/180.png  \n",
            "  inflating: horses-camels/test/horse/181.png  \n",
            "  inflating: horses-camels/test/horse/182.png  \n",
            "  inflating: horses-camels/test/horse/183.png  \n",
            "  inflating: horses-camels/test/horse/184.png  \n",
            "  inflating: horses-camels/test/horse/185.png  \n",
            "  inflating: horses-camels/test/horse/186.png  \n",
            "  inflating: horses-camels/test/horse/187.png  \n",
            "  inflating: horses-camels/test/horse/188.png  \n",
            "  inflating: horses-camels/test/horse/189.png  \n",
            "  inflating: horses-camels/test/horse/190.png  \n",
            "  inflating: horses-camels/test/horse/191.png  \n",
            "  inflating: horses-camels/test/horse/192.png  \n",
            "  inflating: horses-camels/test/horse/193.png  \n",
            "  inflating: horses-camels/test/horse/194.png  \n",
            "  inflating: horses-camels/test/horse/195.png  \n",
            "  inflating: horses-camels/test/horse/196.png  \n",
            "  inflating: horses-camels/test/horse/197.png  \n",
            "  inflating: horses-camels/test/horse/198.png  \n",
            "  inflating: horses-camels/test/horse/199.png  \n",
            "  inflating: horses-camels/train/camel/0.png  \n",
            "  inflating: horses-camels/train/camel/1.png  \n",
            "  inflating: horses-camels/train/camel/10.png  \n",
            "  inflating: horses-camels/train/camel/100.png  \n",
            "  inflating: horses-camels/train/camel/101.png  \n",
            "  inflating: horses-camels/train/camel/102.png  \n",
            "  inflating: horses-camels/train/camel/103.png  \n",
            "  inflating: horses-camels/train/camel/104.png  \n",
            "  inflating: horses-camels/train/camel/105.png  \n",
            "  inflating: horses-camels/train/camel/106.png  \n",
            "  inflating: horses-camels/train/camel/107.png  \n",
            "  inflating: horses-camels/train/camel/108.png  \n",
            "  inflating: horses-camels/train/camel/109.png  \n",
            "  inflating: horses-camels/train/camel/11.png  \n",
            "  inflating: horses-camels/train/camel/110.png  \n",
            "  inflating: horses-camels/train/camel/111.png  \n",
            "  inflating: horses-camels/train/camel/112.png  \n",
            "  inflating: horses-camels/train/camel/113.png  \n",
            "  inflating: horses-camels/train/camel/114.png  \n",
            "  inflating: horses-camels/train/camel/115.png  \n",
            "  inflating: horses-camels/train/camel/116.png  \n",
            "  inflating: horses-camels/train/camel/117.png  \n",
            "  inflating: horses-camels/train/camel/118.png  \n",
            "  inflating: horses-camels/train/camel/119.png  \n",
            "  inflating: horses-camels/train/camel/12.png  \n",
            "  inflating: horses-camels/train/camel/120.png  \n",
            "  inflating: horses-camels/train/camel/121.png  \n",
            "  inflating: horses-camels/train/camel/122.png  \n",
            "  inflating: horses-camels/train/camel/123.png  \n",
            "  inflating: horses-camels/train/camel/124.png  \n",
            "  inflating: horses-camels/train/camel/125.png  \n",
            "  inflating: horses-camels/train/camel/126.png  \n",
            "  inflating: horses-camels/train/camel/127.png  \n",
            "  inflating: horses-camels/train/camel/128.png  \n",
            "  inflating: horses-camels/train/camel/129.png  \n",
            "  inflating: horses-camels/train/camel/13.png  \n",
            "  inflating: horses-camels/train/camel/130.png  \n",
            "  inflating: horses-camels/train/camel/131.png  \n",
            "  inflating: horses-camels/train/camel/132.png  \n",
            "  inflating: horses-camels/train/camel/133.png  \n",
            "  inflating: horses-camels/train/camel/134.png  \n",
            "  inflating: horses-camels/train/camel/135.png  \n",
            "  inflating: horses-camels/train/camel/136.png  \n",
            "  inflating: horses-camels/train/camel/137.png  \n",
            "  inflating: horses-camels/train/camel/138.png  \n",
            "  inflating: horses-camels/train/camel/139.png  \n",
            "  inflating: horses-camels/train/camel/14.png  \n",
            "  inflating: horses-camels/train/camel/140.png  \n",
            "  inflating: horses-camels/train/camel/141.png  \n",
            "  inflating: horses-camels/train/camel/142.png  \n",
            "  inflating: horses-camels/train/camel/143.png  \n",
            "  inflating: horses-camels/train/camel/144.png  \n",
            "  inflating: horses-camels/train/camel/145.png  \n",
            "  inflating: horses-camels/train/camel/146.png  \n",
            "  inflating: horses-camels/train/camel/147.png  \n",
            "  inflating: horses-camels/train/camel/148.png  \n",
            "  inflating: horses-camels/train/camel/149.png  \n",
            "  inflating: horses-camels/train/camel/15.png  \n",
            "  inflating: horses-camels/train/camel/150.png  \n",
            "  inflating: horses-camels/train/camel/151.png  \n",
            "  inflating: horses-camels/train/camel/152.png  \n",
            "  inflating: horses-camels/train/camel/153.png  \n",
            "  inflating: horses-camels/train/camel/154.png  \n",
            "  inflating: horses-camels/train/camel/155.png  \n",
            "  inflating: horses-camels/train/camel/156.png  \n",
            "  inflating: horses-camels/train/camel/157.png  \n",
            "  inflating: horses-camels/train/camel/158.png  \n",
            "  inflating: horses-camels/train/camel/159.png  \n",
            "  inflating: horses-camels/train/camel/16.png  \n",
            "  inflating: horses-camels/train/camel/160.png  \n",
            "  inflating: horses-camels/train/camel/161.png  \n",
            "  inflating: horses-camels/train/camel/162.png  \n",
            "  inflating: horses-camels/train/camel/163.png  \n",
            "  inflating: horses-camels/train/camel/164.png  \n",
            "  inflating: horses-camels/train/camel/165.png  \n",
            "  inflating: horses-camels/train/camel/166.png  \n",
            "  inflating: horses-camels/train/camel/167.png  \n",
            "  inflating: horses-camels/train/camel/168.png  \n",
            "  inflating: horses-camels/train/camel/169.png  \n",
            "  inflating: horses-camels/train/camel/17.png  \n",
            "  inflating: horses-camels/train/camel/170.png  \n",
            "  inflating: horses-camels/train/camel/171.png  \n",
            "  inflating: horses-camels/train/camel/172.png  \n",
            "  inflating: horses-camels/train/camel/173.png  \n",
            "  inflating: horses-camels/train/camel/174.png  \n",
            "  inflating: horses-camels/train/camel/175.png  \n",
            "  inflating: horses-camels/train/camel/176.png  \n",
            "  inflating: horses-camels/train/camel/177.png  \n",
            "  inflating: horses-camels/train/camel/178.png  \n",
            "  inflating: horses-camels/train/camel/179.png  \n",
            "  inflating: horses-camels/train/camel/18.png  \n",
            "  inflating: horses-camels/train/camel/19.png  \n",
            "  inflating: horses-camels/train/camel/2.png  \n",
            "  inflating: horses-camels/train/camel/20.png  \n",
            "  inflating: horses-camels/train/camel/21.png  \n",
            "  inflating: horses-camels/train/camel/22.png  \n",
            "  inflating: horses-camels/train/camel/23.png  \n",
            "  inflating: horses-camels/train/camel/24.png  \n",
            "  inflating: horses-camels/train/camel/25.png  \n",
            "  inflating: horses-camels/train/camel/26.png  \n",
            "  inflating: horses-camels/train/camel/27.png  \n",
            "  inflating: horses-camels/train/camel/28.png  \n",
            "  inflating: horses-camels/train/camel/29.png  \n",
            "  inflating: horses-camels/train/camel/3.png  \n",
            "  inflating: horses-camels/train/camel/30.png  \n",
            "  inflating: horses-camels/train/camel/31.png  \n",
            "  inflating: horses-camels/train/camel/32.png  \n",
            "  inflating: horses-camels/train/camel/33.png  \n",
            "  inflating: horses-camels/train/camel/34.png  \n",
            "  inflating: horses-camels/train/camel/35.png  \n",
            "  inflating: horses-camels/train/camel/36.png  \n",
            "  inflating: horses-camels/train/camel/37.png  \n",
            "  inflating: horses-camels/train/camel/38.png  \n",
            "  inflating: horses-camels/train/camel/39.png  \n",
            "  inflating: horses-camels/train/camel/4.png  \n",
            "  inflating: horses-camels/train/camel/40.png  \n",
            "  inflating: horses-camels/train/camel/41.png  \n",
            "  inflating: horses-camels/train/camel/42.png  \n",
            "  inflating: horses-camels/train/camel/43.png  \n",
            "  inflating: horses-camels/train/camel/44.png  \n",
            "  inflating: horses-camels/train/camel/45.png  \n",
            "  inflating: horses-camels/train/camel/46.png  \n",
            "  inflating: horses-camels/train/camel/47.png  \n",
            "  inflating: horses-camels/train/camel/48.png  \n",
            "  inflating: horses-camels/train/camel/49.png  \n",
            "  inflating: horses-camels/train/camel/5.png  \n",
            "  inflating: horses-camels/train/camel/50.png  \n",
            "  inflating: horses-camels/train/camel/51.png  \n",
            "  inflating: horses-camels/train/camel/52.png  \n",
            "  inflating: horses-camels/train/camel/53.png  \n",
            "  inflating: horses-camels/train/camel/54.png  \n",
            "  inflating: horses-camels/train/camel/55.png  \n",
            "  inflating: horses-camels/train/camel/56.png  \n",
            "  inflating: horses-camels/train/camel/57.png  \n",
            "  inflating: horses-camels/train/camel/58.png  \n",
            "  inflating: horses-camels/train/camel/59.png  \n",
            "  inflating: horses-camels/train/camel/6.png  \n",
            "  inflating: horses-camels/train/camel/60.png  \n",
            "  inflating: horses-camels/train/camel/61.png  \n",
            "  inflating: horses-camels/train/camel/62.png  \n",
            "  inflating: horses-camels/train/camel/63.png  \n",
            "  inflating: horses-camels/train/camel/64.png  \n",
            "  inflating: horses-camels/train/camel/65.png  \n",
            "  inflating: horses-camels/train/camel/66.png  \n",
            "  inflating: horses-camels/train/camel/67.png  \n",
            "  inflating: horses-camels/train/camel/68.png  \n",
            "  inflating: horses-camels/train/camel/69.png  \n",
            "  inflating: horses-camels/train/camel/7.png  \n",
            "  inflating: horses-camels/train/camel/70.png  \n",
            "  inflating: horses-camels/train/camel/71.png  \n",
            "  inflating: horses-camels/train/camel/72.png  \n",
            "  inflating: horses-camels/train/camel/73.png  \n",
            "  inflating: horses-camels/train/camel/74.png  \n",
            "  inflating: horses-camels/train/camel/75.png  \n",
            "  inflating: horses-camels/train/camel/76.png  \n",
            "  inflating: horses-camels/train/camel/77.png  \n",
            "  inflating: horses-camels/train/camel/78.png  \n",
            "  inflating: horses-camels/train/camel/79.png  \n",
            "  inflating: horses-camels/train/camel/8.png  \n",
            "  inflating: horses-camels/train/camel/80.png  \n",
            "  inflating: horses-camels/train/camel/81.png  \n",
            "  inflating: horses-camels/train/camel/82.png  \n",
            "  inflating: horses-camels/train/camel/83.png  \n",
            "  inflating: horses-camels/train/camel/84.png  \n",
            "  inflating: horses-camels/train/camel/85.png  \n",
            "  inflating: horses-camels/train/camel/86.png  \n",
            "  inflating: horses-camels/train/camel/87.png  \n",
            "  inflating: horses-camels/train/camel/88.png  \n",
            "  inflating: horses-camels/train/camel/89.png  \n",
            "  inflating: horses-camels/train/camel/9.png  \n",
            "  inflating: horses-camels/train/camel/90.png  \n",
            "  inflating: horses-camels/train/camel/91.png  \n",
            "  inflating: horses-camels/train/camel/92.png  \n",
            "  inflating: horses-camels/train/camel/93.png  \n",
            "  inflating: horses-camels/train/camel/94.png  \n",
            "  inflating: horses-camels/train/camel/95.png  \n",
            "  inflating: horses-camels/train/camel/96.png  \n",
            "  inflating: horses-camels/train/camel/97.png  \n",
            "  inflating: horses-camels/train/camel/98.png  \n",
            "  inflating: horses-camels/train/camel/99.png  \n",
            "  inflating: horses-camels/train/horse/0.png  \n",
            "  inflating: horses-camels/train/horse/1.png  \n",
            "  inflating: horses-camels/train/horse/10.png  \n",
            "  inflating: horses-camels/train/horse/100.png  \n",
            "  inflating: horses-camels/train/horse/101.png  \n",
            "  inflating: horses-camels/train/horse/102.png  \n",
            "  inflating: horses-camels/train/horse/103.png  \n",
            "  inflating: horses-camels/train/horse/104.png  \n",
            "  inflating: horses-camels/train/horse/105.png  \n",
            "  inflating: horses-camels/train/horse/106.png  \n",
            "  inflating: horses-camels/train/horse/107.png  \n",
            "  inflating: horses-camels/train/horse/108.png  \n",
            "  inflating: horses-camels/train/horse/109.png  \n",
            "  inflating: horses-camels/train/horse/11.png  \n",
            "  inflating: horses-camels/train/horse/110.png  \n",
            "  inflating: horses-camels/train/horse/111.png  \n",
            "  inflating: horses-camels/train/horse/112.png  \n",
            "  inflating: horses-camels/train/horse/113.png  \n",
            "  inflating: horses-camels/train/horse/114.png  \n",
            "  inflating: horses-camels/train/horse/115.png  \n",
            "  inflating: horses-camels/train/horse/116.png  \n",
            "  inflating: horses-camels/train/horse/117.png  \n",
            "  inflating: horses-camels/train/horse/118.png  \n",
            "  inflating: horses-camels/train/horse/119.png  \n",
            "  inflating: horses-camels/train/horse/12.png  \n",
            "  inflating: horses-camels/train/horse/120.png  \n",
            "  inflating: horses-camels/train/horse/121.png  \n",
            "  inflating: horses-camels/train/horse/122.png  \n",
            "  inflating: horses-camels/train/horse/123.png  \n",
            "  inflating: horses-camels/train/horse/124.png  \n",
            "  inflating: horses-camels/train/horse/125.png  \n",
            "  inflating: horses-camels/train/horse/126.png  \n",
            "  inflating: horses-camels/train/horse/127.png  \n",
            "  inflating: horses-camels/train/horse/128.png  \n",
            "  inflating: horses-camels/train/horse/129.png  \n",
            "  inflating: horses-camels/train/horse/13.png  \n",
            "  inflating: horses-camels/train/horse/130.png  \n",
            "  inflating: horses-camels/train/horse/131.png  \n",
            "  inflating: horses-camels/train/horse/132.png  \n",
            "  inflating: horses-camels/train/horse/133.png  \n",
            "  inflating: horses-camels/train/horse/134.png  \n",
            "  inflating: horses-camels/train/horse/135.png  \n",
            "  inflating: horses-camels/train/horse/136.png  \n",
            "  inflating: horses-camels/train/horse/137.png  \n",
            "  inflating: horses-camels/train/horse/138.png  \n",
            "  inflating: horses-camels/train/horse/139.png  \n",
            "  inflating: horses-camels/train/horse/14.png  \n",
            "  inflating: horses-camels/train/horse/140.png  \n",
            "  inflating: horses-camels/train/horse/141.png  \n",
            "  inflating: horses-camels/train/horse/142.png  \n",
            "  inflating: horses-camels/train/horse/143.png  \n",
            "  inflating: horses-camels/train/horse/144.png  \n",
            "  inflating: horses-camels/train/horse/145.png  \n",
            "  inflating: horses-camels/train/horse/146.png  \n",
            "  inflating: horses-camels/train/horse/147.png  \n",
            "  inflating: horses-camels/train/horse/148.png  \n",
            "  inflating: horses-camels/train/horse/149.png  \n",
            "  inflating: horses-camels/train/horse/15.png  \n",
            "  inflating: horses-camels/train/horse/150.png  \n",
            "  inflating: horses-camels/train/horse/151.png  \n",
            "  inflating: horses-camels/train/horse/152.png  \n",
            "  inflating: horses-camels/train/horse/153.png  \n",
            "  inflating: horses-camels/train/horse/154.png  \n",
            "  inflating: horses-camels/train/horse/155.png  \n",
            "  inflating: horses-camels/train/horse/156.png  \n",
            "  inflating: horses-camels/train/horse/157.png  \n",
            "  inflating: horses-camels/train/horse/158.png  \n",
            "  inflating: horses-camels/train/horse/159.png  \n",
            "  inflating: horses-camels/train/horse/16.png  \n",
            "  inflating: horses-camels/train/horse/160.png  \n",
            "  inflating: horses-camels/train/horse/161.png  \n",
            "  inflating: horses-camels/train/horse/162.png  \n",
            "  inflating: horses-camels/train/horse/163.png  \n",
            "  inflating: horses-camels/train/horse/164.png  \n",
            "  inflating: horses-camels/train/horse/165.png  \n",
            "  inflating: horses-camels/train/horse/166.png  \n",
            "  inflating: horses-camels/train/horse/167.png  \n",
            "  inflating: horses-camels/train/horse/168.png  \n",
            "  inflating: horses-camels/train/horse/169.png  \n",
            "  inflating: horses-camels/train/horse/17.png  \n",
            "  inflating: horses-camels/train/horse/170.png  \n",
            "  inflating: horses-camels/train/horse/171.png  \n",
            "  inflating: horses-camels/train/horse/172.png  \n",
            "  inflating: horses-camels/train/horse/173.png  \n",
            "  inflating: horses-camels/train/horse/174.png  \n",
            "  inflating: horses-camels/train/horse/175.png  \n",
            "  inflating: horses-camels/train/horse/176.png  \n",
            "  inflating: horses-camels/train/horse/177.png  \n",
            "  inflating: horses-camels/train/horse/178.png  \n",
            "  inflating: horses-camels/train/horse/179.png  \n",
            "  inflating: horses-camels/train/horse/18.png  \n",
            "  inflating: horses-camels/train/horse/19.png  \n",
            "  inflating: horses-camels/train/horse/2.png  \n",
            "  inflating: horses-camels/train/horse/20.png  \n",
            "  inflating: horses-camels/train/horse/21.png  \n",
            "  inflating: horses-camels/train/horse/22.png  \n",
            "  inflating: horses-camels/train/horse/23.png  \n",
            "  inflating: horses-camels/train/horse/24.png  \n",
            "  inflating: horses-camels/train/horse/25.png  \n",
            "  inflating: horses-camels/train/horse/26.png  \n",
            "  inflating: horses-camels/train/horse/27.png  \n",
            "  inflating: horses-camels/train/horse/28.png  \n",
            "  inflating: horses-camels/train/horse/29.png  \n",
            "  inflating: horses-camels/train/horse/3.png  \n",
            "  inflating: horses-camels/train/horse/30.png  \n",
            "  inflating: horses-camels/train/horse/31.png  \n",
            "  inflating: horses-camels/train/horse/32.png  \n",
            "  inflating: horses-camels/train/horse/33.png  \n",
            "  inflating: horses-camels/train/horse/34.png  \n",
            "  inflating: horses-camels/train/horse/35.png  \n",
            "  inflating: horses-camels/train/horse/36.png  \n",
            "  inflating: horses-camels/train/horse/37.png  \n",
            "  inflating: horses-camels/train/horse/38.png  \n",
            "  inflating: horses-camels/train/horse/39.png  \n",
            "  inflating: horses-camels/train/horse/4.png  \n",
            "  inflating: horses-camels/train/horse/40.png  \n",
            "  inflating: horses-camels/train/horse/41.png  \n",
            "  inflating: horses-camels/train/horse/42.png  \n",
            "  inflating: horses-camels/train/horse/43.png  \n",
            "  inflating: horses-camels/train/horse/44.png  \n",
            "  inflating: horses-camels/train/horse/45.png  \n",
            "  inflating: horses-camels/train/horse/46.png  \n",
            "  inflating: horses-camels/train/horse/47.png  \n",
            "  inflating: horses-camels/train/horse/48.png  \n",
            "  inflating: horses-camels/train/horse/49.png  \n",
            "  inflating: horses-camels/train/horse/5.png  \n",
            "  inflating: horses-camels/train/horse/50.png  \n",
            "  inflating: horses-camels/train/horse/51.png  \n",
            "  inflating: horses-camels/train/horse/52.png  \n",
            "  inflating: horses-camels/train/horse/53.png  \n",
            "  inflating: horses-camels/train/horse/54.png  \n",
            "  inflating: horses-camels/train/horse/55.png  \n",
            "  inflating: horses-camels/train/horse/56.png  \n",
            "  inflating: horses-camels/train/horse/57.png  \n",
            "  inflating: horses-camels/train/horse/58.png  \n",
            "  inflating: horses-camels/train/horse/59.png  \n",
            "  inflating: horses-camels/train/horse/6.png  \n",
            "  inflating: horses-camels/train/horse/60.png  \n",
            "  inflating: horses-camels/train/horse/61.png  \n",
            "  inflating: horses-camels/train/horse/62.png  \n",
            "  inflating: horses-camels/train/horse/63.png  \n",
            "  inflating: horses-camels/train/horse/64.png  \n",
            "  inflating: horses-camels/train/horse/65.png  \n",
            "  inflating: horses-camels/train/horse/66.png  \n",
            "  inflating: horses-camels/train/horse/67.png  \n",
            "  inflating: horses-camels/train/horse/68.png  \n",
            "  inflating: horses-camels/train/horse/69.png  \n",
            "  inflating: horses-camels/train/horse/7.png  \n",
            "  inflating: horses-camels/train/horse/70.png  \n",
            "  inflating: horses-camels/train/horse/71.png  \n",
            "  inflating: horses-camels/train/horse/72.png  \n",
            "  inflating: horses-camels/train/horse/73.png  \n",
            "  inflating: horses-camels/train/horse/74.png  \n",
            "  inflating: horses-camels/train/horse/75.png  \n",
            "  inflating: horses-camels/train/horse/76.png  \n",
            "  inflating: horses-camels/train/horse/77.png  \n",
            "  inflating: horses-camels/train/horse/78.png  \n",
            "  inflating: horses-camels/train/horse/79.png  \n",
            "  inflating: horses-camels/train/horse/8.png  \n",
            "  inflating: horses-camels/train/horse/80.png  \n",
            "  inflating: horses-camels/train/horse/81.png  \n",
            "  inflating: horses-camels/train/horse/82.png  \n",
            "  inflating: horses-camels/train/horse/83.png  \n",
            "  inflating: horses-camels/train/horse/84.png  \n",
            "  inflating: horses-camels/train/horse/85.png  \n",
            "  inflating: horses-camels/train/horse/86.png  \n",
            "  inflating: horses-camels/train/horse/87.png  \n",
            "  inflating: horses-camels/train/horse/88.png  \n",
            "  inflating: horses-camels/train/horse/89.png  \n",
            "  inflating: horses-camels/train/horse/9.png  \n",
            "  inflating: horses-camels/train/horse/90.png  \n",
            "  inflating: horses-camels/train/horse/91.png  \n",
            "  inflating: horses-camels/train/horse/92.png  \n",
            "  inflating: horses-camels/train/horse/93.png  \n",
            "  inflating: horses-camels/train/horse/94.png  \n",
            "  inflating: horses-camels/train/horse/95.png  \n",
            "  inflating: horses-camels/train/horse/96.png  \n",
            "  inflating: horses-camels/train/horse/97.png  \n",
            "  inflating: horses-camels/train/horse/98.png  \n",
            "  inflating: horses-camels/train/horse/99.png  \n"
          ],
          "name": "stdout"
        }
      ]
    },
    {
      "cell_type": "code",
      "metadata": {
        "colab": {
          "base_uri": "https://localhost:8080/"
        },
        "id": "m7eoS0HVl_eq",
        "outputId": "8a83e327-2e27-41e1-8ee4-a2bac418b36d"
      },
      "source": [
        "train_datagen = ImageDataGenerator(rescale=1./255)\n",
        "\n",
        "train_generator = train_datagen.flow_from_directory(\n",
        "    'horses-camels/train',\n",
        "    target_size = (200,200),\n",
        "    batch_size = 20,\n",
        "    class_mode = 'binary'\n",
        ")\n",
        "\n",
        "\n",
        "validation_generator = train_datagen.flow_from_directory(\n",
        "    'horses-camels/test',\n",
        "    target_size = (200,200),\n",
        "    batch_size = 20,\n",
        "    class_mode = 'binary'\n",
        ")"
      ],
      "execution_count": 27,
      "outputs": [
        {
          "output_type": "stream",
          "text": [
            "Found 360 images belonging to 2 classes.\n",
            "Found 40 images belonging to 2 classes.\n"
          ],
          "name": "stdout"
        }
      ]
    },
    {
      "cell_type": "code",
      "metadata": {
        "id": "XLAryBtNsOsh"
      },
      "source": [
        "from tensorflow.keras.optimizers import RMSprop"
      ],
      "execution_count": 28,
      "outputs": []
    },
    {
      "cell_type": "code",
      "metadata": {
        "id": "dfKL6J_3nH4-"
      },
      "source": [
        "def create_model():\n",
        "  model = tf.keras.models.Sequential([\n",
        "                                      tf.keras.layers.Conv2D(16,(3,3), activation='relu', input_shape = (200,200,3)),\n",
        "                                      tf.keras.layers.MaxPooling2D(2,2),\n",
        "                                      tf.keras.layers.Conv2D(32,(3,3), activation='relu'),\n",
        "                                      tf.keras.layers.MaxPooling2D(2,2),\n",
        "                                      tf.keras.layers.Conv2D(64,(3,3), activation='relu'),\n",
        "                                      tf.keras.layers.MaxPooling2D(2,2),\n",
        "                                      tf.keras.layers.Flatten(),\n",
        "                                      tf.keras.layers.Dense(512, activation='relu'),\n",
        "                                      tf.keras.layers.Dense(1, activation='sigmoid')\n",
        "\n",
        "  ])\n",
        "\n",
        "  \n",
        "\n",
        "  return model"
      ],
      "execution_count": 29,
      "outputs": []
    },
    {
      "cell_type": "code",
      "metadata": {
        "id": "1Qr2sZ6cnH2J"
      },
      "source": [
        "model = create_model()"
      ],
      "execution_count": 30,
      "outputs": []
    },
    {
      "cell_type": "code",
      "metadata": {
        "colab": {
          "base_uri": "https://localhost:8080/"
        },
        "id": "Kr8ZIHoKnHyp",
        "outputId": "56f6d0dd-fe4d-49d6-c7ad-42fc67a701eb"
      },
      "source": [
        "model.compile(loss='binary_crossentropy',\n",
        "                optimizer=RMSprop(lr=0.001),\n",
        "                metrics=['acc'])"
      ],
      "execution_count": 31,
      "outputs": [
        {
          "output_type": "stream",
          "text": [
            "/usr/local/lib/python3.7/dist-packages/tensorflow/python/keras/optimizer_v2/optimizer_v2.py:375: UserWarning: The `lr` argument is deprecated, use `learning_rate` instead.\n",
            "  \"The `lr` argument is deprecated, use `learning_rate` instead.\")\n"
          ],
          "name": "stderr"
        }
      ]
    },
    {
      "cell_type": "code",
      "metadata": {
        "colab": {
          "base_uri": "https://localhost:8080/"
        },
        "id": "bDETxLTcnHwy",
        "outputId": "7cc64181-f5db-4ff1-8634-1c8a252179b5"
      },
      "source": [
        "history =  model.fit_generator(\n",
        "    train_generator,\n",
        "    steps_per_epoch=8,\n",
        "    epochs=15,\n",
        "    validation_data = validation_generator,\n",
        "    validation_steps=8,\n",
        "    verbose=2\n",
        ")"
      ],
      "execution_count": 32,
      "outputs": [
        {
          "output_type": "stream",
          "text": [
            "/usr/local/lib/python3.7/dist-packages/tensorflow/python/keras/engine/training.py:1940: UserWarning: `Model.fit_generator` is deprecated and will be removed in a future version. Please use `Model.fit`, which supports generators.\n",
            "  warnings.warn('`Model.fit_generator` is deprecated and '\n"
          ],
          "name": "stderr"
        },
        {
          "output_type": "stream",
          "text": [
            "Epoch 1/15\n",
            "WARNING:tensorflow:Your input ran out of data; interrupting training. Make sure that your dataset or generator can generate at least `steps_per_epoch * epochs` batches (in this case, 8 batches). You may need to use the repeat() function when building your dataset.\n",
            "8/8 - 2s - loss: 3.3206 - acc: 0.4875 - val_loss: 0.6742 - val_acc: 0.6750\n",
            "Epoch 2/15\n",
            "8/8 - 1s - loss: 0.7278 - acc: 0.6125\n",
            "Epoch 3/15\n",
            "8/8 - 1s - loss: 0.6373 - acc: 0.6750\n",
            "Epoch 4/15\n",
            "8/8 - 1s - loss: 0.8065 - acc: 0.5938\n",
            "Epoch 5/15\n",
            "8/8 - 1s - loss: 0.5595 - acc: 0.7125\n",
            "Epoch 6/15\n",
            "8/8 - 1s - loss: 0.5567 - acc: 0.7063\n",
            "Epoch 7/15\n",
            "8/8 - 1s - loss: 0.5482 - acc: 0.7812\n",
            "Epoch 8/15\n",
            "8/8 - 1s - loss: 0.4771 - acc: 0.7563\n",
            "Epoch 9/15\n",
            "8/8 - 1s - loss: 0.4262 - acc: 0.7875\n",
            "Epoch 10/15\n",
            "8/8 - 1s - loss: 0.4589 - acc: 0.7625\n",
            "Epoch 11/15\n",
            "8/8 - 1s - loss: 0.2998 - acc: 0.8687\n",
            "Epoch 12/15\n",
            "8/8 - 1s - loss: 0.3391 - acc: 0.8625\n",
            "Epoch 13/15\n",
            "8/8 - 1s - loss: 0.4479 - acc: 0.8250\n",
            "Epoch 14/15\n",
            "8/8 - 1s - loss: 0.3272 - acc: 0.8875\n",
            "Epoch 15/15\n",
            "8/8 - 1s - loss: 0.2640 - acc: 0.8938\n"
          ],
          "name": "stdout"
        }
      ]
    },
    {
      "cell_type": "code",
      "metadata": {
        "colab": {
          "resources": {
            "http://localhost:8080/nbextensions/google.colab/files.js": {
              "data": "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",
              "ok": true,
              "headers": [
                [
                  "content-type",
                  "application/javascript"
                ]
              ],
              "status": 200,
              "status_text": ""
            }
          },
          "base_uri": "https://localhost:8080/",
          "height": 1000
        },
        "id": "nMinUF0onHmA",
        "outputId": "43c6114b-c6fb-40ef-c2ff-5202f111428c"
      },
      "source": [
        "from google.colab import files\n",
        "from keras.preprocessing import image\n",
        "uploaded = files.upload()\n",
        "for fn in uploaded.keys():\n",
        "  path = '/content/'+fn\n",
        "  img=image.load_img(path,target_size=(200,200))\n",
        "  x = image.img_to_array(img)\n",
        "  x = np.expand_dims(x,axis=0)\n",
        "\n",
        "  images= np.vstack([x])\n",
        "  classes= model.predict(images,batch_size=10)\n",
        "  print(classes[0])\n",
        "  if classes[0]>0.5:\n",
        "    print(fn+' is a horse')\n",
        "  else:\n",
        "    print(fn+' is a camel')"
      ],
      "execution_count": 34,
      "outputs": [
        {
          "output_type": "display_data",
          "data": {
            "text/html": [
              "\n",
              "     <input type=\"file\" id=\"files-59f62d9b-cad1-4915-a08e-6e3ec1294586\" name=\"files[]\" multiple disabled\n",
              "        style=\"border:none\" />\n",
              "     <output id=\"result-59f62d9b-cad1-4915-a08e-6e3ec1294586\">\n",
              "      Upload widget is only available when the cell has been executed in the\n",
              "      current browser session. Please rerun this cell to enable.\n",
              "      </output>\n",
              "      <script src=\"/nbextensions/google.colab/files.js\"></script> "
            ],
            "text/plain": [
              "<IPython.core.display.HTML object>"
            ]
          },
          "metadata": {
            "tags": []
          }
        },
        {
          "output_type": "stream",
          "text": [
            "Saving 180.png to 180.png\n",
            "Saving 181.png to 181.png\n",
            "Saving 182.png to 182.png\n",
            "Saving 183.png to 183.png\n",
            "Saving 184.png to 184.png\n",
            "Saving 185.png to 185.png\n",
            "Saving 186.png to 186.png\n",
            "Saving 187.png to 187.png\n",
            "Saving 188.png to 188.png\n",
            "Saving 189.png to 189.png\n",
            "Saving 190.png to 190.png\n",
            "Saving 191.png to 191.png\n",
            "Saving 192.png to 192.png\n",
            "Saving 193.png to 193.png\n",
            "Saving 194.png to 194.png\n",
            "Saving 195.png to 195.png\n",
            "Saving 196.png to 196.png\n",
            "Saving 197.png to 197.png\n",
            "Saving 198.png to 198.png\n",
            "Saving 199.png to 199.png\n",
            "[1.]\n",
            "180.png is a horse\n",
            "[0.]\n",
            "181.png is a camel\n",
            "[0.]\n",
            "182.png is a camel\n",
            "[0.]\n",
            "183.png is a camel\n",
            "[0.]\n",
            "184.png is a camel\n",
            "[0.]\n",
            "185.png is a camel\n",
            "[0.]\n",
            "186.png is a camel\n",
            "[0.]\n",
            "187.png is a camel\n",
            "[8.666978e-28]\n",
            "188.png is a camel\n",
            "[0.]\n",
            "189.png is a camel\n",
            "[0.]\n",
            "190.png is a camel\n",
            "[0.]\n",
            "191.png is a camel\n",
            "[2.6972915e-16]\n",
            "192.png is a camel\n",
            "[0.]\n",
            "193.png is a camel\n",
            "[0.]\n",
            "194.png is a camel\n",
            "[0.]\n",
            "195.png is a camel\n",
            "[0.]\n",
            "196.png is a camel\n",
            "[0.]\n",
            "197.png is a camel\n",
            "[0.]\n",
            "198.png is a camel\n",
            "[1.]\n",
            "199.png is a horse\n"
          ],
          "name": "stdout"
        }
      ]
    },
    {
      "cell_type": "code",
      "metadata": {
        "id": "HjjzCGglnHRM"
      },
      "source": [
        ""
      ],
      "execution_count": null,
      "outputs": []
    }
  ]
}